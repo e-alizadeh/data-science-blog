{
 "cells": [
  {
   "cell_type": "markdown",
   "id": "4d2c56a9-7f83-4344-a9e8-9af2354de478",
   "metadata": {},
   "source": [
    "# Taming Text with string2string: A Powerful Python Library for String-to-String Algorithms\n",
    "## Leverage string2string for Natural Language Processing Tasks\n",
    "This notebook is accompanying the article https://ealizadeh.com/blog/tutorial-string2string/.\n",
    "\n",
    "\n",
    "**Website:** https://ealizadeh.com\n",
    "\n",
    "**Medium:** https://medium.com/@ealizadeh\n",
    "\n",
    "**Twitter:** https://twitter.com/es_alizadeh\n",
    "\n",
    "**Copyright © 2023 Esmaeil Alizadeh**"
   ]
  },
  {
   "cell_type": "markdown",
   "id": "54023f62",
   "metadata": {
    "tags": []
   },
   "source": [
    "![](https://ealizadeh.com/blog/tutorial-string2string/img/_featured_image.png)\n",
    "\n",
    "# Introduction\n",
    "\n",
    "The `string2string` library is an open-source tool that has a full set of efficient methods for string-to-string problems.^[Visit the library's [GitHub Page](https://github.com/stanfordnlp/string2string).]\n",
    "String pairwise alignment, distance measurement, lexical and semantic search, and similarity analysis are all covered in this library. \n",
    "Additionally, a variety of useful visualization tools and metrics that make it simpler to comprehend and evaluate the findings of these approaches are also included.\n",
    "\n",
    "The library has well-known algorithms like the Smith-Waterman, Hirschberg, Wagner-Fisher, BARTScore, BERTScore, Knuth-Morris-Pratt, and Faiss search. \n",
    "It can be used for many jobs and problems in natural-language processing, bioinformatics, and computer social studies [1].\n",
    "\n",
    "The [Stanford NLP group](https://nlp.stanford.edu/), which is part of the Stanford AI Lab, has developed the library and introduced it in 1.\n",
    "The library's GitHub repository has several [tutorials](https://github.com/stanfordnlp/string2string/tree/main#tutorials) that you may find useful. \n",
    "\n",
    "\n",
    "A *string* is a sequence of characters (letters, numbers, and symbols) that stands for a piece of data or text. \n",
    "From everyday phrases to DNA sequences, and even computer programs, strings may be used to represent just about everything [1]. \n",
    "\n",
    "\n",
    "\n",
    "## Installation\n",
    "You can install the library via pip by running `pip install string2string`.\n",
    "\n",
    "# Pairwise Alignment\n",
    "\n",
    "String pairwise alignment is a method used in NLP and other disciplines to compare two strings, or sequences of characters, by highlighting their shared and unique characteristics. \n",
    "The two strings are aligned, and a similarity score is calculated based on the number of shared characters, as well as the number of shared gaps and mismatches. \n",
    "This procedure is useful for locating sequences of characters that share similarities and calculating the \"distance\" between two sets of strings. \n",
    "Spell checking, text analysis, and bioinformatics sequence comparison (e.g., DNA sequence alignment) are just some of the many uses for it.\n",
    "\n",
    "Currently, the `string2string` package provides the following alignment techniques:\n",
    "\n",
    "* Needleman-Wunsch for global alignment\n",
    "* Smith-Waterman for local alignment\n",
    "* Hirchberg's algorithm for linear space global alignment\n",
    "* Longest common subsequence\n",
    "* Longest common substring\n",
    "* Dynamic time warping (DTW) for time series alignment\n",
    "\n",
    "In this post, we'll look at two examples: one for global alignment and one for time series alignment.\n",
    "\n",
    "## Needleman-Wunsch Algorithm for Global Alignment\n",
    "The Needleman-Wunsch algorithm is a type of dynamic programming algorithm that is often used in bioinformatics to match two DNA or protein sequences, globally. \n"
   ]
  },
  {
   "cell_type": "code",
   "execution_count": 1,
   "id": "stdout-alignment-nw",
   "metadata": {
    "tags": []
   },
   "outputs": [
    {
     "name": "stdout",
     "output_type": "stream",
     "text": [
      "The alignment between \"ACGTGGA\" and \"AGCTCGC\":\n",
      "A | C | G | - | T | G | G | A\n",
      "A | - | G | C | T | C | G | C\n"
     ]
    }
   ],
   "source": [
    "#| label: stdout-alignment-nw\n",
    "from string2string.alignment import NeedlemanWunsch\n",
    "\n",
    "nw = NeedlemanWunsch()\n",
    "\n",
    "# Define two sequences\n",
    "s1 = 'ACGTGGA'\n",
    "s2 = 'AGCTCGC'\n",
    "\n",
    "aligned_s1, aligned_s2, score_matrix = nw.get_alignment(s1, s2, return_score_matrix=True)\n",
    "\n",
    "print(f'The alignment between \"{s1}\" and \"{s2}\":')\n",
    "nw.print_alignment(aligned_s1, aligned_s2)"
   ]
  },
  {
   "cell_type": "markdown",
   "id": "0f8b0ee0",
   "metadata": {},
   "source": [
    "For a more informative comparison, we can use `plot_pairwise_alignment()` function in the library.\n"
   ]
  },
  {
   "cell_type": "code",
   "execution_count": 2,
   "id": "fig-alignment-nw-plot",
   "metadata": {
    "tags": []
   },
   "outputs": [
    {
     "data": {
      "image/png": "[encoded data removed]",
      "text/plain": [
       "<Figure size 800x400 with 1 Axes>"
      ]
     },
     "metadata": {},
     "output_type": "display_data"
    }
   ],
   "source": [
    "#| label: fig-alignment-nw-plot\n",
    "#| fig-cap: Global alignment between ACGTGGA and AGCTCGC\n",
    "from string2string.misc.plotting_functions import plot_pairwise_alignment\n",
    "\n",
    "path, s1_pieces, s2_pieces = nw.get_alignment_strings_and_indices(aligned_s1, aligned_s2)\n",
    "\n",
    "plot_pairwise_alignment(\n",
    "    seq1_pieces=s1_pieces,\n",
    "    seq2_pieces=s2_pieces,\n",
    "    alignment=path,\n",
    "    str2colordict={\n",
    "        \"A\": \"pink\", \n",
    "        \"G\": \"lightblue\", \n",
    "        \"C\": \"lightgreen\", \n",
    "        \"T\": \"yellow\", \n",
    "        \"-\": \"lightgray\"\n",
    "    },\n",
    "    title=\"\",\n",
    "    seq1_name=\"Sequence 1\",\n",
    "    seq2_name=\"Sequence 2\",\n",
    ")"
   ]
  },
  {
   "cell_type": "markdown",
   "id": "a802a002",
   "metadata": {},
   "source": [
    "## Dynamic Time Warping \n",
    "DTW is a useful tool to compare two time series that might differ in speed, duration, or both. \n",
    "It discovers the path across these distances that minimizes the total difference between the sequences by calculating the \"distance\" between each pair of points in the two sequences.\n",
    "\n",
    "Let's go over an example using the `alignment` module in the `string2string` library.\n"
   ]
  },
  {
   "cell_type": "code",
   "execution_count": 3,
   "id": "stdout-alignment-dtw-path",
   "metadata": {
    "tags": []
   },
   "outputs": [
    {
     "name": "stdout",
     "output_type": "stream",
     "text": [
      "DTW path: [(0, 0), (1, 1), (1, 2), (2, 3), (3, 4), (4, 5), (4, 6)]\n"
     ]
    }
   ],
   "source": [
    "#| label: stdout-alignment-dtw-path\n",
    "from string2string.alignment import DTW\n",
    "\n",
    "dtw = DTW()\n",
    "\n",
    "x = [3, 1, 2, 2, 1]\n",
    "y = [2, 0, 0, 3, 3, 1, 0]\n",
    "\n",
    "dtw_path = dtw.get_alignment_path(x, y, distance=\"square_difference\")\n",
    "print(f\"DTW path: {dtw_path}\")"
   ]
  },
  {
   "cell_type": "markdown",
   "id": "732531ad",
   "metadata": {},
   "source": [
    "Above is an example borrowed from my previous post, *[An Illustrative Introduction to Dynamic Time Warping](https://ealizadeh.com/blog/introduction-to-dynamic-time-warping/#example-1)*.\n",
    "For those looking to delve deeper into the topic, in [2], I explained the core concepts of DTW in a visual and accessible way.\n",
    "\n",
    "\n",
    "# Search Problems\n",
    "\n",
    "String search is the task of finding a pattern substring within another string. \n",
    "The library offers two types of search algorithms: lexical search and semantic search. \n",
    "\n",
    "## Lexical Search (exact-match search)\n",
    "\n",
    "Lexical search, in layman's terms, is the act of searching for certain words or phrases inside a text, analogous to searching for a word or phrase in a dictionary or a book. \n",
    "\n",
    "Instead of trying to figure out what a string of letters or words means, it just tries to match them exactly.\n",
    "When it comes to search engines and information retrieval, lexical search is a basic strategy to finding relevant resources based on the keywords or phrases users enter, without any attempt at comprehending the linguistic context of the words or phrases in question.\n",
    "\n",
    "Currently, the `string2string` library provides the following lexical search algorithm:\n",
    "\n",
    "* Naive (brute-force) search algorithm\n",
    "* Rabin-Karp search algorithm\n",
    "* Knuth-Morris-Pratt (KMP) search algorithm (see the example below)\n",
    "* Boyer-Moore search algorithm\n"
   ]
  },
  {
   "cell_type": "code",
   "execution_count": 4,
   "id": "stdout-search-kmp",
   "metadata": {
    "tags": []
   },
   "outputs": [
    {
     "name": "stdout",
     "output_type": "stream",
     "text": [
      "The starting index of pattern: 72\n",
      "The pattern (± characters) inside the text: \"of a Redwood tree, and\"\n"
     ]
    }
   ],
   "source": [
    "#| label: stdout-search-kmp\n",
    "from string2string.search import KMPSearch\n",
    "\n",
    "kmp_search = KMPSearch()\n",
    "\n",
    "pattern = \"Redwood tree\"\n",
    "text = \"The gentle fluttering of a Monarch butterfly, the towering majesty of a Redwood tree, and the crashing of ocean waves are all wonders of nature.\"\n",
    "\n",
    "idx = kmp_search.search(pattern=pattern, text=text)\n",
    "\n",
    "print(f\"The starting index of pattern: {idx}\")\n",
    "print(f'The pattern (± characters) inside the text: \"{text[idx-5: idx+len(pattern)+5]}\"')"
   ]
  },
  {
   "cell_type": "markdown",
   "id": "37534e77",
   "metadata": {},
   "source": [
    "## Semantic Search\n",
    "Semantic search is a more sophisticated method of information retrieval that goes beyond simple word or phrase searches. \n",
    "It employs NLP (natural language processing) to decipher a user's intent and return accurate results.\n",
    "\n",
    "To put it another way, let's say you're interested in \"how to grow apples.\" \n",
    "While a lexical search may produce results including the terms \"grow\" and \"apples,\" a semantic search will recognize that you are interested in the cultivation of apple trees and deliver results accordingly. \n",
    "The search engine would then prioritize results that not only included the phrases it was looking for but also gave relevant information about planting, trimming, and harvesting apple trees.\n",
    "\n",
    "### Semantic Search via Faiss\n",
    "\n",
    "Faiss (Facebook AI Similarity Search) is an efficient similarity search tool that is useful for dealing with high-dimensional data with numerical representations [3]. \n",
    "The `string2string` library has a wrapper for the FAISS library developed by Facebook (see [GitHub repository](https://github.com/facebookresearch/faiss)).\n",
    "\n",
    "In short, Faiss search ranks its results based on a \"score,\" representing the degree to which two objects are similar to one another. \n",
    "The score makes it possible to interpret and prioritize search results based on how close/relevant they are to the desired target.\n",
    "\n",
    "Let's see how the Faiss search is used in the `string2string` library.\n",
    "Here, we have a corpus^[A corpus (plural of corpora) is a large and structured collections of texts used for linguistic research, NLP and ML applications.] of 11 sentences, and we will do a semantic search by querying a target sentence to see how close/relevant it is to these sentences. \n"
   ]
  },
  {
   "cell_type": "code",
   "execution_count": 5,
   "id": "7d6d195c",
   "metadata": {
    "tags": []
   },
   "outputs": [],
   "source": [
    "corpus = {\"text\": [\n",
    "    \"A warm cup of tea in the morning helps me start the day right.\",\n",
    "    \"Staying active is important for maintaining a healthy lifestyle.\",\n",
    "    \"I find inspiration in trying out new activities or hobbies.\",\n",
    "    \"The view from my window is always a source of inspiration.\",\n",
    "    \"The encouragement from my loved ones keeps me going.\",\n",
    "    \"The novel I've picked up recently has been a page-turner.\",\n",
    "    \"Listening to podcasts helps me stay focused during work.\",\n",
    "    \"I can't wait to explore the new art gallery downtown.\",\n",
    "    \"Meditating in a peaceful environment brings clarity to my thoughts.\",\n",
    "    \"I believe empathy is a crucial quality to possess.\",\n",
    "    \"I like to exercise a few times a week.\"\n",
    "    ]\n",
    "}\n",
    "\n",
    "query = \"I enjoy walking early morning before I start my work.\""
   ]
  },
  {
   "cell_type": "markdown",
   "id": "1d6b98f2",
   "metadata": {},
   "source": [
    "Let's initialize the `FaissSearch` object. \n",
    "Facebook's BART Large model is the default model and tokenizer for the `FaissSearch` object."
   ]
  },
  {
   "cell_type": "code",
   "execution_count": 6,
   "id": "b707c6d4",
   "metadata": {
    "tags": []
   },
   "outputs": [
    {
     "data": {
      "application/vnd.jupyter.widget-view+json": {
       "model_id": "13788658a0314bf09d5e104c6b371d93",
       "version_major": 2,
       "version_minor": 0
      },
      "text/plain": [
       "Map:   0%|          | 0/11 [00:00<?, ? examples/s]"
      ]
     },
     "metadata": {},
     "output_type": "display_data"
    },
    {
     "name": "stdout",
     "output_type": "stream",
     "text": [
      "Adding FAISS index...\n"
     ]
    },
    {
     "data": {
      "application/vnd.jupyter.widget-view+json": {
       "model_id": "e0bf547bf47743e28ae6ef05ba9193eb",
       "version_major": 2,
       "version_minor": 0
      },
      "text/plain": [
       "  0%|          | 0/1 [00:00<?, ?it/s]"
      ]
     },
     "metadata": {},
     "output_type": "display_data"
    },
    {
     "data": {
      "text/plain": [
       "Dataset({\n",
       "    features: ['text', 'embeddings'],\n",
       "    num_rows: 11\n",
       "})"
      ]
     },
     "execution_count": 6,
     "metadata": {},
     "output_type": "execute_result"
    }
   ],
   "source": [
    "#| output: false\n",
    "from string2string.search import FaissSearch\n",
    "\n",
    "faiss_search = FaissSearch(\n",
    "    model_name_or_path = \"facebook/bart-large\",\n",
    "    tokenizer_name_or_path = \"facebook/bart-large\",\n",
    ")\n",
    "\n",
    "faiss_search.initialize_corpus(\n",
    "    corpus=corpus,\n",
    "    section=\"text\", \n",
    "    embedding_type=\"mean_pooling\",\n",
    ")"
   ]
  },
  {
   "cell_type": "markdown",
   "id": "bfc9b814",
   "metadata": {},
   "source": [
    "Let's find the top 3 most similar sentences in the corpus to the query and print them, as well as their similarity scores.\n"
   ]
  },
  {
   "cell_type": "code",
   "execution_count": 7,
   "id": "stdout-search-faiss-top-results",
   "metadata": {
    "tags": []
   },
   "outputs": [
    {
     "name": "stdout",
     "output_type": "stream",
     "text": [
      "Query: I enjoy walking early morning before I start my work.\n",
      "\n",
      "Result 1 (score=208.49): \"I find inspiration in trying out new activities or hobbies.\"\n",
      "Result 2 (score=218.21): \"I like to exercise a few times a week.\"\n",
      "Result 3 (score=225.96): \"I can't wait to explore the new art gallery downtown.\"\n"
     ]
    }
   ],
   "source": [
    "#| label: stdout-search-faiss-top-results\n",
    "top_k_similar_answers = 3\n",
    "most_similar_results = faiss_search.search(\n",
    "    query=query,\n",
    "    k=top_k_similar_answers,\n",
    ")\n",
    "    \n",
    "print(f\"Query: {query}\\n\")\n",
    "for i in range(top_k_similar_answers):\n",
    "    print(f'Result {i+1} (score={most_similar_results[\"score\"][i]:.2f}): \"{most_similar_results[\"text\"][i]}\"')"
   ]
  },
  {
   "cell_type": "markdown",
   "id": "2eb5b579",
   "metadata": {},
   "source": [
    "# Distance\n",
    "\n",
    "String distance is the task of quantifying the degree to which two supplied strings differ using a distance function.\n",
    "Currently, the `string2string` library offers the following distance functions:\n",
    "\n",
    "* Levenshtein edit distance\n",
    "* Damerau-Levenshtein edit distance\n",
    "* Hamming distance\n",
    "* Jaccard distance^[Not to be confused with Jaccard similarity coefficient. Jaccard distance = 1 - Jaccard coefficient]\n",
    "\n",
    "## Levenshtein edit distance\n",
    "\n",
    "Levenshtein edit distance, or simply the edit distance, is the minimal number of insertions, deletions, or substitutions needed to convert one string into another.\n"
   ]
  },
  {
   "cell_type": "code",
   "execution_count": 8,
   "id": "stdout-distance-edit",
   "metadata": {
    "tags": []
   },
   "outputs": [
    {
     "name": "stdout",
     "output_type": "stream",
     "text": [
      "The distance between the following two sentences is 2.0:\n",
      "\"The beautiful cherry blossoms bloom in the spring time.\"\n",
      "\"The beutiful cherry blosoms bloom in the spring time.\"\n"
     ]
    }
   ],
   "source": [
    "#| label: stdout-distance-edit\n",
    "from string2string.distance import LevenshteinEditDistance\n",
    "\n",
    "edit_dist = LevenshteinEditDistance()\n",
    "\n",
    "# Create two strings\n",
    "s1 = \"The beautiful cherry blossoms bloom in the spring time.\"\n",
    "s2 = \"The beutiful cherry blosoms bloom in the spring time.\"\n",
    "\n",
    "# Let's compute the edit distance between the two strings and measure the computation time\n",
    "edit_dist_score  = edit_dist.compute(s1, s2, method=\"dynamic-programming\")\n",
    "\n",
    "print(f'The distance between the following two sentences is {edit_dist_score}:') #\\n- \"{s1}\"\\n- \"{s2}\"')\n",
    "print(f'\"The beautiful cherry blossoms bloom in the spring time.\"')\n",
    "print(f'\"The beutiful cherry blosoms bloom in the spring time.\"')"
   ]
  },
  {
   "cell_type": "markdown",
   "id": "3af7e55f",
   "metadata": {},
   "source": [
    "## Jaccard Index\n",
    "\n",
    "The Jaccard index can be used to quantify the similarity between sets of words or tokens and is commonly used in tasks such as document similarity or topic modeling. \n",
    "For example, the Jaccard index can be used to measure the overlap between the sets of words in two different documents or to identify the most similar topics across a collection of documents.\n"
   ]
  },
  {
   "cell_type": "code",
   "execution_count": 9,
   "id": "stdout-distance-jaccard",
   "metadata": {
    "tags": []
   },
   "outputs": [
    {
     "name": "stdout",
     "output_type": "stream",
     "text": [
      "Jaccard distance between doc1 and doc2: 0.75\n"
     ]
    }
   ],
   "source": [
    "#| label: stdout-distance-jaccard\n",
    "from string2string.distance import JaccardIndex \n",
    "\n",
    "jaccard_dist = JaccardIndex()\n",
    "\n",
    "# Suppose we have two documents\n",
    "doc1 = [\"red\", \"green\", \"blue\", \"yellow\", \"purple\", \"pink\"]\n",
    "doc2 = [\"green\", \"orange\", \"cyan\", \"red\"]\n",
    "\n",
    "jaccard_dist_score = jaccard_dist.compute(doc1, doc2)\n",
    "\n",
    "print(f\"Jaccard distance between doc1 and doc2: {jaccard_dist_score:.2f}\")"
   ]
  },
  {
   "cell_type": "markdown",
   "id": "d69de390",
   "metadata": {},
   "source": [
    "# Similarity\n",
    "\n",
    "To put it simply, string similarity determines the degree to which two strings of text (or sequences of characters) are linked or similar to one another.\n",
    "Take, as an example, the following pair of sentences:\n",
    "\n",
    "* \"The cat sat on the mat.\"\n",
    "* \"The cat was sitting on the rug.\"\n",
    "\n",
    "Although not identical, these statements share vocabulary and convey a connected sense.\n",
    "Methods based on string similarity analysis reveal and quantify the degree of similarity between such text pairings.\n",
    "\n",
    "\n",
    "**NOTE:** There is a *duality* between string *similarity* and *distance* measures, meaning that they can be used interchangeably (see [1]). \n",
    "\n",
    "\n",
    "The `similarly` module of the `string2string` library currently offers the following algorithms:\n",
    "\n",
    "* Cosine similarity\n",
    "* BERTScore\n",
    "* BARTScore\n",
    "* Jaro similarity\n",
    "* LCSubsequence similarity\n",
    "\n",
    "Let's go over an example of the BERTScore similarity algorithm with the following four sentences: \n",
    "\n",
    "1. The bakery sells a variety of delicious pastries and bread.\n",
    "2. The park features a playground, walking trails, and picnic areas.\n",
    "3. The festival showcases independent movies from around the world.\n",
    "4. A range of tasty bread and pastries are available at the bakery.\n",
    "\n",
    "Sentences 1 and 2 are similar semantically as both are about bakery and pastry. \n",
    "Hence, we should expect a high similarity score between the two.\n",
    "\n",
    "Let's implement the above example in the library."
   ]
  },
  {
   "cell_type": "code",
   "execution_count": 10,
   "id": "0012dd5d",
   "metadata": {
    "tags": []
   },
   "outputs": [
    {
     "name": "stderr",
     "output_type": "stream",
     "text": [
      "Some weights of the model checkpoint at bert-base-uncased were not used when initializing BertModel: ['cls.predictions.bias', 'cls.predictions.decoder.weight', 'cls.predictions.transform.LayerNorm.bias', 'cls.predictions.transform.dense.bias', 'cls.predictions.transform.LayerNorm.weight', 'cls.predictions.transform.dense.weight', 'cls.seq_relationship.bias', 'cls.seq_relationship.weight']\n",
      "- This IS expected if you are initializing BertModel from the checkpoint of a model trained on another task or with another architecture (e.g. initializing a BertForSequenceClassification model from a BertForPreTraining model).\n",
      "- This IS NOT expected if you are initializing BertModel from the checkpoint of a model that you expect to be exactly identical (initializing a BertForSequenceClassification model from a BertForSequenceClassification model).\n"
     ]
    }
   ],
   "source": [
    "#| output: false\n",
    "\n",
    "from string2string.similarity import BERTScore\n",
    "from string2string.misc import ModelEmbeddings\n",
    "\n",
    "bert_score = BERTScore(model_name_or_path=\"bert-base-uncased\")\n",
    "bart_model = ModelEmbeddings(model_name_or_path=\"facebook/bart-large\")\n",
    "\n",
    "sentences = [\n",
    "    \"The bakery sells a variety of delicious pastries and bread.\", \n",
    "    \"The park features a playground, walking trails, and picnic areas.\", \n",
    "    \"The festival showcases independent movies from around the world.\", \n",
    "    \"A range of tasty bread and pastries are available at the bakery.\", \n",
    "]\n",
    "\n",
    "embeds = [\n",
    "    bart_model.get_embeddings(\n",
    "        sentence, embedding_type='mean_pooling'\n",
    "    ) for sentence in sentences\n",
    "]\n",
    "\n",
    "# Define source and target sentences (to compute BERTScore for each pair)\n",
    "source_sentences, target_sentences = [], []\n",
    "for i in range(len(sentences)):\n",
    "    for j in range(len(sentences)):\n",
    "        source_sentences.append(sentences[i])\n",
    "        target_sentences.append(sentences[j])\n",
    "\n",
    "bertscore_similarity_scores = bert_score.compute(\n",
    "    source_sentences,\n",
    "    target_sentences,\n",
    ")\n",
    "bertscore_precision_scores = bertscore_similarity_scores['precision'].reshape(\n",
    "    len(sentences), len(sentences)\n",
    ")"
   ]
  },
  {
   "cell_type": "markdown",
   "id": "0b6e49a0",
   "metadata": {},
   "source": [
    "We can visualize the similarity between every pair of sentences using the `plot_heatmap()` function provided in the library. \n"
   ]
  },
  {
   "cell_type": "code",
   "execution_count": 11,
   "id": "fig-similarity-bertscore-heatmap",
   "metadata": {
    "tags": []
   },
   "outputs": [
    {
     "data": {
      "image/png": "[encoded data removed]",
      "text/plain": [
       "<Figure size 640x480 with 1 Axes>"
      ]
     },
     "metadata": {},
     "output_type": "display_data"
    }
   ],
   "source": [
    "#| label: fig-similarity-bertscore-heatmap\n",
    "#| fig-cap: Semantic similarity (BERTScore) between sentences\n",
    "#| fig-alt: Semantic similarity (BERTScore) between sentences\n",
    "from string2string.misc.plotting_functions import plot_heatmap\n",
    "\n",
    "plot_ticks = [f\"Sentence {i + 1}\" for i in range(len(sentences))]\n",
    "\n",
    "# We can also visualize the BERTScore similarity scores using a heatmap\n",
    "plot_heatmap(\n",
    "    bertscore_precision_scores,\n",
    "    title=\"\",\n",
    "    x_ticks=plot_ticks,\n",
    "    y_ticks=plot_ticks,\n",
    "    x_label=\"\",\n",
    "    y_label=\"\",\n",
    "    valfmt=\"{x:.2f}\",\n",
    "    cmap=\"Blues\",\n",
    ")"
   ]
  },
  {
   "cell_type": "markdown",
   "id": "ccab7bf7",
   "metadata": {},
   "source": [
    "As can be seen above, sentences 1 and 4 are much more similar (using the BERTScore algorithm) as we expected. \n",
    "\n",
    "\n",
    "# Conclusion\n",
    "\n",
    "The `string2string` Python library is an open-source tool that provides a full set of efficient methods for string-to-string problems. \n",
    "In particular, the library has four main modules that address the following tasks: 1. *pairwise alignment* including both global and local alignments; 2. *distance measurement*; 3. *lexical and semantic search*; and 4. *similarity analysis*. \n",
    "The library offers various algorithms in each category and provides helpful visualization tools. "
   ]
  }
 ],
 "metadata": {
  "kernelspec": {
   "display_name": "s2s",
   "language": "python",
   "name": "s2s"
  },
  "language_info": {
   "codemirror_mode": {
    "name": "ipython",
    "version": 3
   },
   "file_extension": ".py",
   "mimetype": "text/x-python",
   "name": "python",
   "nbconvert_exporter": "python",
   "pygments_lexer": "ipython3",
   "version": "3.10.0"
  }
 },
 "nbformat": 4,
 "nbformat_minor": 5
}
