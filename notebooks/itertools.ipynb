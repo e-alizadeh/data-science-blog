{
 "cells": [
  {
   "cell_type": "markdown",
   "id": "8312aee5-9c39-482d-8e41-5d3c36858f1b",
   "metadata": {},
   "source": [
    "# Python's itertools: A Hidden Gem for Efficient Looping\n",
    "## A comprehensive guide to leveraging Python's itertools for advanced iteration\n",
    "This notebook is accompanying the article https://ealizadeh.com/blog/itertools/.\n",
    "\n",
    "**Website:** https://ealizadeh.com\n",
    "\n",
    "**Medium:** https://medium.com/@ealizadeh\n",
    "\n",
    "**Twitter:** https://twitter.com/es_alizadeh\n",
    "\n",
    "**Copyright © 2023 Esmaeil Alizadeh**"
   ]
  },
  {
   "cell_type": "markdown",
   "id": "fea944eb",
   "metadata": {},
   "source": [
    "![](https://ealizadeh.com/blog/itertool/img/_featured_image.png)\n",
    "\n",
    "# Introduction\n",
    "The itertools [1] module in Python is a powerful tool that provides a set of functions for creating iterators to support efficient looping and handling of sequences. \n",
    "It's part of Python's standard library, meaning it's available in every Python installation.\n",
    "\n",
    "Let's first talk about what a Python iterator before diving into the itertools functions.\n",
    "\n",
    "# What is an Iterator in Python?\n",
    "An iterator is a Python object that can be looped over, or iterated. \n",
    "Data containers may be abstracted in order to get access to and perform operations on their contents without revealing their internal representation.\n",
    "\n",
    "Python has several built-in functions and objects that return iterators. \n",
    "Some of the more frequent ones are as follows:\n",
    "\n",
    "* Basic data types: Lists, tuples, strings, and dictionaries,\n",
    "* Built-in functions: `range()`, `enumerate()`, `zip()`\n",
    "\n",
    "## How an iterator is defined in Python?\n",
    "An iterator object must implement two special methods: `__iter__()` and `__next__()`, collectively known as the iterator protocol.\n",
    "\n",
    "The `__iter__()` method returns the iterator object itself, and is required for your object to be used in any iteration context, such as a for loop.\n",
    "The `__next__()` method returns the next value from the iterator. \n",
    "If there are no more items to return, it should raise StopIteration.\n"
   ]
  },
  {
   "cell_type": "code",
   "execution_count": 1,
   "id": "aa3dc394",
   "metadata": {},
   "outputs": [
    {
     "name": "stdout",
     "output_type": "stream",
     "text": [
      "0\n",
      "1\n",
      "2\n"
     ]
    }
   ],
   "source": [
    "class CountUpToThree:\n",
    "    def __init__(self):\n",
    "        self.count = 0\n",
    "\n",
    "    def __iter__(self):\n",
    "        return self\n",
    "\n",
    "    def __next__(self):\n",
    "        if self.count < 3:\n",
    "            value = self.count\n",
    "            self.count += 1\n",
    "            return value\n",
    "        else:\n",
    "            raise StopIteration\n",
    "\n",
    "counter = CountUpToThree()\n",
    "\n",
    "for c in counter:\n",
    "    print(c)"
   ]
  },
  {
   "cell_type": "markdown",
   "id": "eac83682",
   "metadata": {},
   "source": [
    "# Deep dive into itertools library\n",
    "At its core, itertools offers a suite of building block functions that allow you to iterate over data in a fast, memory-efficient, and developer-friendly way. \n",
    "These functions can be categorized into three broad types:\n",
    "\n",
    "1. **Infinite Iterators**: These generate an infinite sequence of values. \n",
    "2. **Combinatoric Generators**: These iterators generate outputs by combining inputs in different ways. They are extremely useful when you want to produce complex combinations or permutations of data.\n",
    "3. **Iterators Terminating on the Shortest Input Sequence**: These, like `itertools.zip_longest()`, `itertools.chain()`, `itertools.takewhile()`, produce values from input sequences and stop when the shortest sequence is exhausted.\n",
    "\n",
    "All iterators in Python output values sequentially, but itertools' operations may be chained together to construct more complicated iterators that can process big data sets without using a lot of memory.\n",
    "Additionally, because itertools' operations are written in C, they are faster than the comparable Python code written using conventional loops.\n",
    "\n",
    "Itertools is a useful tool for Python programmers because it makes loops more efficient and code easier to read. Itertools gives us a better way to run through lists, texts, dictionaries, files, and even our own custom data structures.\n",
    "\n",
    "## Infinite Iterators\n",
    "\n",
    "Infinite iterators are a unique feature in the itertools module. \n",
    "They produce an endless sequence of items, only stopping when we explicitly break the loop. \n",
    "This can be particularly useful in scenarios where we have a repeating pattern or want to generate a continuous sequence. \n",
    "However, you must be careful when using these to avoid creating an infinite loop in your program.\n",
    "Let's look at the three main infinite iterator functions: `count()`, `cycle()`, and `repeat()`.\n",
    "\n",
    "### `count(start, step)`\n",
    "\n",
    "The `count()` function works similar to the built-in `range()` function but, instead of stopping at a certain point, it continues indefinitely. \n",
    "It takes two arguments: `start` and `step`. \n",
    "`start` is the number at which the count begins and `step` is the increment.\n"
   ]
  },
  {
   "cell_type": "code",
   "execution_count": 2,
   "id": "316ba272",
   "metadata": {},
   "outputs": [
    {
     "name": "stdout",
     "output_type": "stream",
     "text": [
      "100\n",
      "105\n",
      "110\n",
      "115\n"
     ]
    }
   ],
   "source": [
    "from itertools import count\n",
    "\n",
    "for idx in count(start=100, step=5):\n",
    "    print(idx)\n",
    "    if idx > 110:  # Break the loop to prevent an infinite loop\n",
    "        break"
   ]
  },
  {
   "cell_type": "markdown",
   "id": "94e60e03",
   "metadata": {},
   "source": [
    "In this example, we start counting from 100 and increase by 5 each time. \n",
    "The loop will continue indefinitely unless we stop it, here, we stop it when `i` gets larger than 110.\n",
    "\n",
    "### `cycle(iterable)`\n",
    "\n",
    "The `cycle()` function cycles through an iterable indefinitely. \n",
    "This can be useful when you have a repeating pattern.\n"
   ]
  },
  {
   "cell_type": "code",
   "execution_count": 3,
   "id": "135b98fe",
   "metadata": {},
   "outputs": [
    {
     "name": "stdout",
     "output_type": "stream",
     "text": [
      "A\n",
      "B\n",
      "C\n",
      "A\n",
      "B\n"
     ]
    }
   ],
   "source": [
    "from itertools import cycle\n",
    "\n",
    "count = 0\n",
    "for item in cycle(\"ABC\"):\n",
    "    print(item)\n",
    "    count += 1\n",
    "    if count >= 5:  # Break the loop to prevent infinite loop\n",
    "        break"
   ]
  },
  {
   "cell_type": "markdown",
   "id": "bb09fcf0",
   "metadata": {},
   "source": [
    "In this example, we're cycling through the string 'ABC'. \n",
    "Once we reach 'C', it starts over with 'A' again. \n",
    "We stop the loop after 5 iterations.\n",
    "\n",
    "### `repeat(object, times)`\n",
    "\n",
    "The `repeat()` function simply repeats an object over and over again. \n",
    "By default, it does this indefinitely, but you can also specify the number of times you want the object to be repeated.\n"
   ]
  },
  {
   "cell_type": "code",
   "execution_count": 4,
   "id": "37cdb091",
   "metadata": {},
   "outputs": [
    {
     "name": "stdout",
     "output_type": "stream",
     "text": [
      "['A', 'B']\n",
      "['A', 'B']\n",
      "['A', 'B']\n",
      "\n",
      "\n",
      "AB\n",
      "AB\n",
      "AB\n"
     ]
    }
   ],
   "source": [
    "from itertools import repeat\n",
    "\n",
    "for i in repeat([\"A\", \"B\"], times=3):\n",
    "    print(i)\n",
    "print(\"\\n\")\n",
    "for i in repeat(\"AB\", times=3):\n",
    "    print(i)"
   ]
  },
  {
   "cell_type": "markdown",
   "id": "627acae5",
   "metadata": {},
   "source": [
    "Here, we're repeating the string 'ABC' three times. \n",
    "Unlike the previous functions, `repeat()` can terminate on its own if we provide the `times` argument.\n",
    "\n",
    "These functions can be very handy in various scenarios. \n",
    "They allow us to generate data on the fly without having to pre-generate large lists or sequences, making our code more memory efficient.\n",
    "\n",
    "## Combinatoric Iterators\n",
    "\n",
    "Combinatoric iterators are used to create different types of iterators that generate all possible combinations, permutations, or Cartesian products (a set of all ordered pairs) of an iterable^[For more information about Cartesian product, see [Wikipedia](https://en.wikipedia.org/wiki/Cartesian_product)]. \n",
    "They are powerful tools when we need to consider all possible combinations of elements. \n",
    "Here we'll focus on three functions: `product()`, `permutations()`, and `combinations()`.\n",
    "\n",
    "### `product(iterable, repeat)`\n",
    "\n",
    "The `product()` function computes the Cartesian product of the input iterable. This is equivalent to nested for-loops. \n",
    "The `repeat` argument specifies the number of repetitions of the iterable.\n",
    "The result is the Cartesian product of the input iterable with itself, repeated the specified number of times.\n"
   ]
  },
  {
   "cell_type": "code",
   "execution_count": 5,
   "id": "ddc647cd",
   "metadata": {},
   "outputs": [
    {
     "name": "stdout",
     "output_type": "stream",
     "text": [
      "('A', 'A')\n",
      "('A', 'B')\n",
      "('B', 'A')\n",
      "('B', 'B')\n"
     ]
    }
   ],
   "source": [
    "from itertools import product\n",
    "\n",
    "for item in product([\"A\", \"B\"], repeat=2):\n",
    "    print(item)"
   ]
  },
  {
   "cell_type": "markdown",
   "id": "156b60f7",
   "metadata": {},
   "source": [
    "In this example, we're generating the Cartesian product of the string 'AB' with itself. This gives us all possible pairs of 'A' and 'B' in a tuple.\n",
    "\n",
    "### `permutations(iterable, r)`\n",
    "\n",
    "The `permutations()` function generates all possible permutations of the input iterable. You can specify the length of the permutations using the 'r' argument. If 'r' is not specified, then 'r' defaults to the length of the iterable.\n"
   ]
  },
  {
   "cell_type": "code",
   "execution_count": 6,
   "id": "863dbaa7",
   "metadata": {},
   "outputs": [
    {
     "name": "stdout",
     "output_type": "stream",
     "text": [
      "('A', 'B')\n",
      "('A', 'C')\n",
      "('B', 'A')\n",
      "('B', 'C')\n",
      "('C', 'A')\n",
      "('C', 'B')\n"
     ]
    }
   ],
   "source": [
    "from itertools import permutations\n",
    "\n",
    "for item in permutations(\"ABC\", r=2):  # equivalent to permutations([\"A\", \"B\", \"C\"], 2)\n",
    "    print(item)"
   ]
  },
  {
   "cell_type": "markdown",
   "id": "2f0a4c02",
   "metadata": {},
   "source": [
    "Here, we're generating all possible 2-element permutations of the string 'ABC'. \n",
    "Each permutation is a tuple of two characters.\n",
    "\n",
    "### `combinations(iterable, r)`\n",
    "\n",
    "The `combinations()` function generates all possible combinations of the input iterable. \n",
    "The `r` argument specifies the length of the combinations. Unlike permutations, combinations don't consider the order of elements.\n"
   ]
  },
  {
   "cell_type": "code",
   "execution_count": 7,
   "id": "95f76e14",
   "metadata": {},
   "outputs": [
    {
     "name": "stdout",
     "output_type": "stream",
     "text": [
      "('A', 'B')\n",
      "('A', 'C')\n",
      "('B', 'C')\n"
     ]
    }
   ],
   "source": [
    "from itertools import combinations\n",
    "\n",
    "for item in combinations([\"A\", \"B\", \"C\"], r=2):\n",
    "    print(item)"
   ]
  },
  {
   "cell_type": "markdown",
   "id": "f22c5b1c",
   "metadata": {},
   "source": [
    "Here, we'll generate every pairwise permutation of the items in the list [\"A\", \"B\", \"C\"]. \n",
    "\n",
    "These operations are in handy when trying to solve a problem that requires us to think about every conceivable combination or subset of the given items. \n",
    "\n",
    "## Terminating Iterators\n",
    "\n",
    "Functions that return a single iterable after using up all elements in the input iterable are called *terminating iterators*. \n",
    "They are used to reduce the input iterable in some way. \n",
    "For this section, we'll focus on `accumulate()`, `groupby()`, and `chain()`.\n",
    "\n",
    "### `accumulate(iterable, func)`\n",
    "\n",
    "The `accumulate()` function provides a way to get the sum of values or the sum of the outcomes of other binary operations. \n",
    "In the absence of a specified function, addition will be used.\n"
   ]
  },
  {
   "cell_type": "code",
   "execution_count": 8,
   "id": "5a641471",
   "metadata": {},
   "outputs": [
    {
     "name": "stdout",
     "output_type": "stream",
     "text": [
      "3\n",
      "4\n",
      "6\n",
      "6\n",
      "6\n",
      "9\n",
      "9\n"
     ]
    }
   ],
   "source": [
    "from itertools import accumulate\n",
    "\n",
    "list_ = [3, 4, 6, 2, 1, 9, 8]\n",
    "for item in accumulate(list_, func=max):\n",
    "    print(item)\n",
    "# accumulate([3], func=max) -> 3\n",
    "# accumulate([3, 4], func=max) -> 4\n",
    "# accumulate([3, 4, 6], func=max) -> 6\n",
    "# accumulate([3, 4, 6, 2], func=max) -> 6\n",
    "# accumulate([3, 4, 6, 2, 1], func=max) -> 6\n",
    "# accumulate([3, 4, 6, 2, 1, 9], func=max) -> 9\n",
    "# accumulate([3, 4, 6, 2, 1, 9, 8], func=max) -> 9"
   ]
  },
  {
   "cell_type": "markdown",
   "id": "140c743b",
   "metadata": {},
   "source": [
    "In this example, we're using `accumulate()` with the max function to print the maximum value encountered at each step in the list.\n",
    "\n",
    "### `groupby(iterable, key)`\n",
    "\n",
    "The `groupby()` function makes an iterator that returns consecutive keys and groups from the iterable. The key is a function computing a key value for each element.\n"
   ]
  },
  {
   "cell_type": "code",
   "execution_count": 9,
   "id": "33cf3f09",
   "metadata": {},
   "outputs": [
    {
     "name": "stdout",
     "output_type": "stream",
     "text": [
      "\"fruit\" group:  [('apple', 'fruit'), ('orange', 'fruit')]\n",
      "\"vegetable\" group:  [('lettuce', 'vegetable'), ('spinach', 'vegetable')]\n"
     ]
    }
   ],
   "source": [
    "from itertools import groupby\n",
    "\n",
    "list_ = [\n",
    "    (\"apple\", \"fruit\"), \n",
    "    (\"orange\", \"fruit\"), \n",
    "    (\"lettuce\", \"vegetable\"), \n",
    "    (\"spinach\", \"vegetable\")\n",
    "]\n",
    "for key, group in groupby(list_, key=lambda x: x[1]):\n",
    "    print(f'\"{key}\" group: ', list(group))"
   ]
  },
  {
   "cell_type": "markdown",
   "id": "893f40b4",
   "metadata": {},
   "source": [
    "In this case, we're classifying a set of tuples according to their second elements (thus, `x[1]`), which makes them either *fruit* or *vegetable*. \n",
    "\n",
    "### `chain(iterables)`\n",
    "\n",
    "The `chain()` function is used to treat multiple sequences as one continuous sequence.\n"
   ]
  },
  {
   "cell_type": "code",
   "execution_count": 10,
   "id": "89392e06",
   "metadata": {},
   "outputs": [
    {
     "name": "stdout",
     "output_type": "stream",
     "text": [
      "A\n",
      "B\n",
      "1\n",
      "2\n",
      "3\n",
      "c\n",
      "d\n"
     ]
    }
   ],
   "source": [
    "from itertools import chain\n",
    "\n",
    "list_1 = [\"A\", \"B\"]\n",
    "list_2 = [1, 2, 3]\n",
    "s = \"cd\"\n",
    "\n",
    "for each in chain(list_1, list_2, s):\n",
    "    print(each)"
   ]
  },
  {
   "cell_type": "markdown",
   "id": "35ba72cc",
   "metadata": {},
   "source": [
    "In this example, we're using `chain()` to treat three separate lists as if they were one long list and iterate over their contents.\n",
    "\n",
    "# Practical Example: Solving a Problem with itertools\n",
    "\n",
    "Let's see how these concepts apply to a practical problem. \n",
    "\n",
    "## Example 1: Find all possible pairs of items in a list\n",
    "Suppose we have a list of items, and we want to find all possible pairs of items in the list. \n",
    "We can solve this problem using the `combinations()` function from the itertools module.\n"
   ]
  },
  {
   "cell_type": "code",
   "execution_count": 11,
   "id": "34b4e1d2",
   "metadata": {},
   "outputs": [
    {
     "name": "stdout",
     "output_type": "stream",
     "text": [
      "('A', 'B')\n",
      "('A', 'C')\n",
      "('A', 'D')\n",
      "('B', 'C')\n",
      "('B', 'D')\n",
      "('C', 'D')\n"
     ]
    }
   ],
   "source": [
    "from itertools import combinations\n",
    "\n",
    "items = [\"A\", \"B\", \"C\", \"D\"]\n",
    "\n",
    "# Generate all combinations of pairs\n",
    "pairs = combinations(items, 2)\n",
    "\n",
    "for pair in pairs:\n",
    "    print(pair)"
   ]
  },
  {
   "cell_type": "markdown",
   "id": "e5375dce",
   "metadata": {},
   "source": [
    "You can see that the `combinations()` method provides a simple solution to this problem.\n",
    "\n",
    "Now, let's consider a bit more complex problem. \n",
    "\n",
    "## Example 2: Cycle through a list \n",
    "Suppose we want to cycle through a list indefinitely and print out the current item and the next item. \n"
   ]
  },
  {
   "cell_type": "code",
   "execution_count": 12,
   "id": "2b7ec4ae",
   "metadata": {},
   "outputs": [
    {
     "name": "stdout",
     "output_type": "stream",
     "text": [
      "Current item: A\n",
      "Next item: B\n",
      "\n",
      "Current item: B\n",
      "Next item: C\n",
      "\n",
      "Current item: C\n",
      "Next item: A\n",
      "\n",
      "Current item: A\n",
      "Next item: B\n",
      "\n",
      "Current item: B\n",
      "Next item: C\n",
      "\n"
     ]
    }
   ],
   "source": [
    "#| fig-cap: output the current and next items, cycling back to the start of the list when it reaches the end\n",
    "from itertools import cycle\n",
    "\n",
    "items = [\"A\", \"B\", \"C\"]\n",
    "cycled_items = cycle(items) # an iterator that returns elements from the iterable indefinitely\n",
    "\n",
    "current_item = next(cycled_items)  # to advance through the iterator\n",
    "\n",
    "for _ in range(5):\n",
    "    next_item = next(cycled_items)\n",
    "    print(f\"Current item: {current_item}\\nNext item: {next_item}\\n\")\n",
    "    current_item = next_item"
   ]
  },
  {
   "cell_type": "markdown",
   "id": "8c381ae8",
   "metadata": {},
   "source": [
    "# Conclusion\n",
    "\n",
    "In conclusion, the itertools module is a hidden gem in Python that enables simpler, more efficient code to be written when dealing with iterations. \n",
    "It simplifies our work by providing a set of tools for building and manipulating iterators that can handle complicated iteration patterns. \n",
    "As we deal with more and bigger data sets, the efficiency in terms of the memory use also becomes more crucial. \n",
    "In this post, we covered three main class of itertools methods that are: 1. *infinite iterators*, 2. *combinatoric iterators*, and 3. *terminating iterators.\n",
    "\n",
    "Despite its benefits, itertools is still one of Python's lesser-known standard library.\n",
    "itertools is a necessary element of every Python programmer's arsenal because of the variety of powerful capabilities it offers for looping, iterating, and producing combinations or permutations.\n",
    "Learning itertools is a good investment of time whether you're an experienced Pythonista wanting to hone your coding skills or a beginner trying to get a feel for Python's potential. \n"
   ]
  }
 ],
 "metadata": {
  "kernelspec": {
   "display_name": "py311",
   "language": "python",
   "name": "py311"
  },
  "language_info": {
   "codemirror_mode": {
    "name": "ipython",
    "version": 3
   },
   "file_extension": ".py",
   "mimetype": "text/x-python",
   "name": "python",
   "nbconvert_exporter": "python",
   "pygments_lexer": "ipython3",
   "version": "3.10.0"
  }
 },
 "nbformat": 4,
 "nbformat_minor": 5
}
