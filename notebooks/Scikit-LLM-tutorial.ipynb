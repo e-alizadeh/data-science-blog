{
 "cells": [
  {
   "cell_type": "markdown",
   "metadata": {},
   "source": [
    "# Scikit-LLM: Bridging the Gap Between LLM and Scikit-learn\n",
    "\n",
    "## Leveraging the Power of advanced language models in Python for Natural Language Processing Workflows\n",
    "\n",
    "This notebook is accompanying the article https://ealizadeh.com/blog/tutorial-scikit-llm/.\n",
    "\n",
    "**Website**: https://ealizadeh.com\n",
    "\n",
    "**Medium**: https://medium.com/@ealizadeh\n",
    "\n",
    "**Twitter**: https://twitter.com/es_alizadeh\n",
    "\n",
    "**Copyright © 2023 Esmaeil Alizadeh**"
   ]
  },
  {
   "cell_type": "markdown",
   "metadata": {},
   "source": [
    "![](https://ealizadeh.com/blog/tutorial-scikit-llm/img/_featured_image.png)\n",
    "\n",
    "## Introduction\n",
    "\n",
    "[Scikit-LLM](https://github.com/iryna-kondr/scikit-llm) is a Python package that integrates large language models (LLMs) like OpenAI's GPT-3 into the [scikit-learn](https://scikit-learn.org/) framework for text analysis tasks. \n",
    "\n",
    "Scikit-LLM is designed to work within the scikit-learn framework. \n",
    "Hence, if you're familiar with scikit-learn, you'll feel right at home with scikit-llm.\n",
    "The library offers a range of features, out of which we will cover the following:\n",
    "\n",
    "- Zero-shot text classification\n",
    "- Multi-label zero-shot text classification \n",
    "- Text vectorization \n",
    "- Text translation\n",
    "- Text summarization\n",
    "\n",
    "\n",
    "### Installation\n",
    "You can install the library via pip:\n",
    "\n",
    "```\n",
    "pip install scikit-llm\n",
    "```\n",
    "\n",
    "### Configuration\n",
    "Before you start using Scikit-LLM, you need to pass your OpenAI API key to Scikit-LLM. \n",
    "You can check out this [post](www.howtogeek.com/885918/how-to-get-an-openai-api-key/) to set up your OpenAI API key. "
   ]
  },
  {
   "cell_type": "code",
   "execution_count": 1,
   "metadata": {},
   "outputs": [],
   "source": [
    "from skllm.config import SKLLMConfig\n",
    "\n",
    "# Use your OpenAI key and organization ID\n",
    "OPENAI_SECRET_KEY = \"sk-***\"\n",
    "OPENAI_ORG_ID = \"org-***\"\n",
    "\n",
    "SKLLMConfig.set_openai_key(OPENAI_SECRET_KEY)\n",
    "SKLLMConfig.set_openai_org(OPENAI_ORG_ID)"
   ]
  },
  {
   "cell_type": "markdown",
   "metadata": {},
   "source": [
    "\n",
    ">Please note that Scikit-LLM provides a convenient interface to access OpenAI's GPT-3 models.\n",
    "Use of these models is not free and requires an API key. \n",
    "While the API cost is relatively cheap, depending on the volume of your data and frequency of calls, these costs can add up. \n",
    "Therefore, it's important to plan and manage your usage carefully to control costs. \n",
    "Always remember to review OpenAI's [pricing details](https://openai.com/pricing/) and terms of use before getting started with Scikit-LLM.\n",
    "\n",
    ">To give you a rough idea, I ran this notebook at least five times to make this tutorial, and the total cost was US $0.02. I have to say, I thought this would be higher!\n",
    "\n",
    "\n",
    "## Zero-Shot Text Classification\n",
    "One of the features of Scikit-LLM is the ability to perform zero-shot text classification. \n",
    "Scikit-LLM provides two classes for this purpose:\n",
    "\n",
    "- `ZeroShotGPTClassifier`: used for single label classification (e.g. sentiment analysis),\n",
    "- `MultiLabelZeroShotGPTClassifier`: used for a multi-label classification task.\n",
    "\n",
    "### Single label ZeroShotGPTClassifier\n",
    "Let's do a sentiment analysis of a few movie reviews. \n",
    "For training purposes, we define the sentiment for each review (defined by a variable `movie_review_labels`). \n",
    "We train the model with these reviews and labels, so that we can predict new movie reviews using the trained model. \n",
    "\n",
    "The sample dataset for the movie reviews is given below:"
   ]
  },
  {
   "cell_type": "code",
   "execution_count": 2,
   "metadata": {},
   "outputs": [],
   "source": [
    "movie_reviews = [\n",
    "    \"This movie was absolutely wonderful. The storyline was compelling and the characters were very realistic.\",\n",
    "    \"I really loved the film! The plot had a few unexpected twists which kept me engaged till the end.\",\n",
    "    \"The movie was alright. Not great, but not bad either. A decent one-time watch.\",\n",
    "    \"I didn't enjoy the film that much. The plot was quite predictable and the characters lacked depth.\",\n",
    "    \"This movie was not to my taste. It felt too slow and the storyline wasn't engaging enough.\",\n",
    "    \"The film was okay. It was neither impressive nor disappointing. It was just fine.\",\n",
    "    \"I was blown away by the movie! The cinematography was excellent and the performances were top-notch.\",\n",
    "    \"I didn't like the movie at all. The story was uninteresting and the acting was mediocre at best.\",\n",
    "    \"The movie was decent. It had its moments but was not consistently engaging.\"\n",
    "]\n",
    "\n",
    "movie_review_labels = [\n",
    "    \"positive\", \n",
    "    \"positive\", \n",
    "    \"neutral\", \n",
    "    \"negative\", \n",
    "    \"negative\", \n",
    "    \"neutral\", \n",
    "    \"positive\", \n",
    "    \"negative\", \n",
    "    \"neutral\"\n",
    "]\n",
    "\n",
    "new_movie_reviews = [\n",
    "    # A positive review\n",
    "    \"The movie was fantastic! I was captivated by the storyline from beginning to end.\",\n",
    "\n",
    "    # A negative review\n",
    "    \"I found the film to be quite boring. The plot moved too slowly and the acting was subpar.\",\n",
    "\n",
    "    # A neutral review\n",
    "    \"The movie was okay. Not the best I've seen, but certainly not the worst.\"\n",
    "]"
   ]
  },
  {
   "cell_type": "markdown",
   "metadata": {},
   "source": [
    "Let's train the model and then check what the model predicts for each new review."
   ]
  },
  {
   "cell_type": "code",
   "execution_count": 3,
   "metadata": {},
   "outputs": [
    {
     "name": "stderr",
     "output_type": "stream",
     "text": [
      "100%|█████████████████████████████████████████████████████████████████████████████████████████████████████████████████████████████████████████████████████████| 3/3 [00:03<00:00,  1.29s/it]"
     ]
    },
    {
     "name": "stdout",
     "output_type": "stream",
     "text": [
      "Review: The movie was fantastic! I was captivated by the storyline from beginning to end.\n",
      "Predicted Sentiment: positive\n",
      "\n",
      "\n",
      "Review: I found the film to be quite boring. The plot moved too slowly and the acting was subpar.\n",
      "Predicted Sentiment: negative\n",
      "\n",
      "\n",
      "Review: The movie was okay. Not the best I've seen, but certainly not the worst.\n",
      "Predicted Sentiment: neutral\n",
      "\n",
      "\n"
     ]
    },
    {
     "name": "stderr",
     "output_type": "stream",
     "text": [
      "\n"
     ]
    }
   ],
   "source": [
    "from skllm import ZeroShotGPTClassifier\n",
    "\n",
    "clf = ZeroShotGPTClassifier(openai_model=\"gpt-3.5-turbo\")\n",
    "\n",
    "# Train the model \n",
    "clf.fit(X=movie_reviews, y=movie_review_labels)  \n",
    "\n",
    "# Use the trained classifier to predict the sentiment of the new reviews\n",
    "predicted_movie_review_labels = clf.predict(X=new_movie_reviews)  \n",
    "\n",
    "for review, sentiment in zip(new_movie_reviews, predicted_movie_review_labels):\n",
    "    print(f\"Review: {review}\\nPredicted Sentiment: {sentiment}\\n\\n\")"
   ]
  },
  {
   "cell_type": "markdown",
   "metadata": {},
   "source": [
    "As can be seen above, the model predicted the sentiment of each movie review correctly. \n",
    "\n",
    "### Multi-Labels ZeroShotGPTClassifier\n",
    "\n",
    "In the previous section, we had a single-label classifier ([\"positive\", \"negative\", \"neutral\"]).\n",
    "Here, we are going to use the `MultiLabelZeroShotGPTClassifier` estimator to assign multiple labels to a list of restaurant reviews.  "
   ]
  },
  {
   "cell_type": "code",
   "execution_count": 4,
   "metadata": {},
   "outputs": [],
   "source": [
    "restaurant_reviews = [\n",
    "    \"The food was delicious and the service was excellent. A wonderful dining experience!\",\n",
    "    \"The restaurant was in a great location, but the food was just average.\",\n",
    "    \"The service was very slow and the food was cold when it arrived. Not a good experience.\",\n",
    "    \"The restaurant has a beautiful ambiance, and the food was superb.\",\n",
    "    \"The food was great, but I found it to be a bit overpriced.\",\n",
    "    \"The restaurant was conveniently located, but the service was poor.\",\n",
    "    \"The food was not as expected, but the restaurant ambiance was really nice.\",\n",
    "    \"Great food and quick service. The location was also very convenient.\",\n",
    "    \"The prices were a bit high, but the food quality and the service were excellent.\",\n",
    "    \"The restaurant offered a wide variety of dishes. The service was also very quick.\"\n",
    "]\n",
    "\n",
    "restaurant_review_labels = [\n",
    "    [\"Food\", \"Service\"],\n",
    "    [\"Location\", \"Food\"],\n",
    "    [\"Service\", \"Food\"],\n",
    "    [\"Atmosphere\", \"Food\"],\n",
    "    [\"Food\", \"Price\"],\n",
    "    [\"Location\", \"Service\"],\n",
    "    [\"Food\", \"Atmosphere\"],\n",
    "    [\"Food\", \"Service\", \"Location\"],\n",
    "    [\"Price\", \"Food\", \"Service\"],\n",
    "    [\"Food Variety\", \"Service\"]\n",
    "]\n",
    "\n",
    "new_restaurant_reviews = [\n",
    "    \"The food was excellent and the restaurant was located in the heart of the city.\",\n",
    "    \"The service was slow and the food was not worth the price.\",\n",
    "    \"The restaurant had a wonderful ambiance, but the variety of dishes was limited.\"\n",
    "]"
   ]
  },
  {
   "cell_type": "markdown",
   "metadata": {},
   "source": [
    "Let's train the model and then predict the labels for new reviews. "
   ]
  },
  {
   "cell_type": "code",
   "execution_count": 5,
   "metadata": {},
   "outputs": [
    {
     "name": "stderr",
     "output_type": "stream",
     "text": [
      "100%|█████████████████████████████████████████████████████████████████████████████████████████████████████████████████████████████████████████████████████████| 3/3 [00:04<00:00,  1.36s/it]"
     ]
    },
    {
     "name": "stdout",
     "output_type": "stream",
     "text": [
      "Review: The food was excellent and the restaurant was located in the heart of the city.\n",
      "Predicted Labels: ['Food', 'Location']\n",
      "\n",
      "\n",
      "Review: The service was slow and the food was not worth the price.\n",
      "Predicted Labels: ['Service', 'Price']\n",
      "\n",
      "\n",
      "Review: The restaurant had a wonderful ambiance, but the variety of dishes was limited.\n",
      "Predicted Labels: ['Atmosphere', 'Food Variety']\n",
      "\n",
      "\n"
     ]
    },
    {
     "name": "stderr",
     "output_type": "stream",
     "text": [
      "\n"
     ]
    }
   ],
   "source": [
    "from skllm import MultiLabelZeroShotGPTClassifier\n",
    "\n",
    "# Initialize the classifier with the OpenAI model\n",
    "clf = MultiLabelZeroShotGPTClassifier(max_labels=3)\n",
    "\n",
    "# Train the model \n",
    "clf.fit(X=restaurant_reviews, y=restaurant_review_labels)\n",
    "\n",
    "# Use the trained classifier to predict the labels of the new reviews\n",
    "predicted_restaurant_review_labels = clf.predict(X=new_restaurant_reviews)\n",
    "\n",
    "for review, labels in zip(new_restaurant_reviews, predicted_restaurant_review_labels):\n",
    "    print(f\"Review: {review}\\nPredicted Labels: {labels}\\n\\n\")"
   ]
  },
  {
   "cell_type": "markdown",
   "metadata": {},
   "source": [
    "The predicted labels for each review are spot-on. \n",
    "\n",
    "## Text Vectorization\n",
    "Scikit-LLM provides the `GPTVectorizer` class to convert the input text into a fixed-dimensional vector representation. \n",
    "Each resulting vector is an array of floating numbers, which is a representation of the corresponding sentence. \n",
    "\n",
    "Let's get a vectorized representation of the following sentences."
   ]
  },
  {
   "cell_type": "code",
   "execution_count": 6,
   "metadata": {},
   "outputs": [],
   "source": [
    "X = [\n",
    "    \"AI can revolutionize industries.\",\n",
    "    \"Robotics creates automated solutions.\",\n",
    "    \"IoT connects devices for data exchange.\"\n",
    "]"
   ]
  },
  {
   "cell_type": "code",
   "execution_count": 7,
   "metadata": {},
   "outputs": [
    {
     "name": "stderr",
     "output_type": "stream",
     "text": [
      "100%|█████████████████████████████████████████████████████████████████████████████████████████████████████████████████████████████████████████████████████████| 3/3 [00:00<00:00,  3.51it/s]"
     ]
    },
    {
     "name": "stdout",
     "output_type": "stream",
     "text": [
      "[[-0.00818816 -0.02555456 -0.00988734 ... -0.00273106 -0.02135345\n",
      "   0.00324951]\n",
      " [-0.00942906 -0.0088576  -0.01257207 ... -0.00348147 -0.01212307\n",
      "  -0.00738133]\n",
      " [-0.01094868 -0.00141127  0.01587056 ...  0.01248216 -0.00837055\n",
      "  -0.01012501]]\n"
     ]
    },
    {
     "name": "stderr",
     "output_type": "stream",
     "text": [
      "\n"
     ]
    }
   ],
   "source": [
    "from skllm.preprocessing import GPTVectorizer\n",
    "\n",
    "vectorizer = GPTVectorizer()\n",
    "\n",
    "vectors = vectorizer.fit_transform(X)\n",
    "\n",
    "print(vectors)"
   ]
  },
  {
   "cell_type": "markdown",
   "metadata": {},
   "source": [
    "In practice, these vectors are inputs to other machine learning models for tasks like classification, clustering, or regression, rather than examining the vectors directly.\n",
    "\n",
    "##  Text Translation\n",
    "GPT models can be used to translate by making accurate readings from one language to another. \n",
    "We can translate a text into a language of interest using the `GPTTranslator` module."
   ]
  },
  {
   "cell_type": "code",
   "execution_count": 8,
   "metadata": {},
   "outputs": [
    {
     "name": "stderr",
     "output_type": "stream",
     "text": [
      "100%|█████████████████████████████████████████████████████████████████████████████████████████████████████████████████████████████████████████████████████████| 1/1 [00:01<00:00,  1.34s/it]"
     ]
    },
    {
     "name": "stdout",
     "output_type": "stream",
     "text": [
      "Text in French: \n",
      "Je suis content que vous lisiez ce post.\n",
      "\n",
      "Translated text in English: I am glad that you are reading this post.\n"
     ]
    },
    {
     "name": "stderr",
     "output_type": "stream",
     "text": [
      "\n"
     ]
    }
   ],
   "source": [
    "from skllm.preprocessing import GPTTranslator\n",
    "from skllm.datasets import get_translation_dataset\n",
    "\n",
    "translator = GPTTranslator(openai_model=\"gpt-3.5-turbo\", output_language=\"English\")\n",
    "\n",
    "text_to_translate = [\"Je suis content que vous lisiez ce post.\"]\n",
    "# \"I am happy that you are reading this post.\"\n",
    "\n",
    "translated_text = translator.fit_transform(text_to_translate)\n",
    "\n",
    "print(\n",
    "    f\"Text in French: \\n{text_to_translate[0]}\\n\\nTranslated text in English: {translated_text[0]}\"\n",
    ")"
   ]
  },
  {
   "cell_type": "markdown",
   "metadata": {},
   "source": [
    "## Text Summarization\n",
    "GPT models are very useful for summarizing texts. \n",
    "The Scikit-LLM library provides the `GPTSummarizer` estimator for text summarization. \n",
    "Let's see that in action by summarizing the long reviews given below."
   ]
  },
  {
   "cell_type": "code",
   "execution_count": 9,
   "metadata": {},
   "outputs": [],
   "source": [
    "reviews = [\n",
    "    \"I dined at The Gourmet Kitchen last night and had a wonderful experience. The service was impeccable, the food was exquisite, and the ambiance was delightful. I had the seafood pasta, which was cooked to perfection. The wine list was also quite impressive. I would highly recommend this restaurant to anyone looking for a fine dining experience.\",\n",
    "    \"I visited The Burger Spot for lunch today and was pleasantly surprised. Despite being a fast food joint, the quality of the food was excellent. I ordered the classic cheeseburger and it was juicy and flavorful. The fries were crispy and well-seasoned. The service was quick and the staff was friendly. It's a great place for a quick and satisfying meal.\",\n",
    "    \"The Coffee Corner is my favorite spot to work and enjoy a good cup of coffee. The atmosphere is relaxed and the coffee is always top-notch. They also offer a variety of pastries and sandwiches. The staff is always welcoming and the service is fast. I enjoy their latte and the blueberry muffin is a must-try.\"\n",
    "]"
   ]
  },
  {
   "cell_type": "code",
   "execution_count": 10,
   "metadata": {},
   "outputs": [
    {
     "name": "stderr",
     "output_type": "stream",
     "text": [
      "100%|█████████████████████████████████████████████████████████████████████████████████████████████████████████████████████████████████████████████████████████| 3/3 [00:04<00:00,  1.65s/it]"
     ]
    },
    {
     "name": "stdout",
     "output_type": "stream",
     "text": [
      "['The Gourmet Kitchen offers impeccable service, exquisite food, delightful ambiance, and an impressive wine list.'\n",
      " 'The Burger Spot offers excellent quality fast food with friendly service.'\n",
      " 'The Coffee Corner is a great place to work with good coffee and food.']\n"
     ]
    },
    {
     "name": "stderr",
     "output_type": "stream",
     "text": [
      "\n"
     ]
    }
   ],
   "source": [
    "from skllm.preprocessing import GPTSummarizer\n",
    "\n",
    "gpt_summarizer = GPTSummarizer(openai_model = \"gpt-3.5-turbo\", max_words = 15)\n",
    "\n",
    "summaries = gpt_summarizer.fit_transform(reviews)\n",
    "\n",
    "print(summaries)"
   ]
  },
  {
   "cell_type": "markdown",
   "metadata": {},
   "source": [
    "A short summary of each review is generated. \n",
    "The `max_words` parameter sets a rough upper bound on the summary's length; in practice, it may be a slightly longer. \n",
    "\n",
    "# Conclusion\n",
    "Scikit-LLM is a powerful tool that adds the power of advanced language models like GPT-3 to the well-known scikit-learn framework. \n",
    "In this tutorial, we looked at some of Scikit-LLM's most important features, such as zero-shot text classification, multi-label zero-shot text classification, text vectorization, text summary, and language translation.\n",
    "\n",
    "Scikit-LLM is a promising tool that opens up new possibilities in the realm of text analysis using large language models. \n",
    "This library might be a useful addition to your toolbox; therefore, I suggest giving it a try."
   ]
  }
 ],
 "metadata": {
  "kernelspec": {
   "display_name": "scikit-llm",
   "language": "python",
   "name": "scikit-llm"
  },
  "language_info": {
   "codemirror_mode": {
    "name": "ipython",
    "version": 3
   },
   "file_extension": ".py",
   "mimetype": "text/x-python",
   "name": "python",
   "nbconvert_exporter": "python",
   "pygments_lexer": "ipython3",
   "version": "3.9.16"
  }
 },
 "nbformat": 4,
 "nbformat_minor": 4
}
